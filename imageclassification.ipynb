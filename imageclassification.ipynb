{
  "nbformat": 4,
  "nbformat_minor": 0,
  "metadata": {
    "colab": {
      "name": "imageclassification.ipynb",
      "provenance": [],
      "collapsed_sections": [],
      "authorship_tag": "ABX9TyPzyLKXuorztYY/OEGI5kMT",
      "include_colab_link": true
    },
    "kernelspec": {
      "name": "python3",
      "display_name": "Python 3"
    }
  },
  "cells": [
    {
      "cell_type": "markdown",
      "metadata": {
        "id": "view-in-github",
        "colab_type": "text"
      },
      "source": [
        "<a href=\"https://colab.research.google.com/github/saikumarjakkampudi/ml-minor-project/blob/main/imageclassification.ipynb\" target=\"_parent\"><img src=\"https://colab.research.google.com/assets/colab-badge.svg\" alt=\"Open In Colab\"/></a>"
      ]
    },
    {
      "cell_type": "code",
      "metadata": {
        "id": "6MIVZmOKZ7o9"
      },
      "source": [
        "!pip install bing-image-downloader"
      ],
      "execution_count": null,
      "outputs": []
    },
    {
      "cell_type": "code",
      "metadata": {
        "id": "jSczBrJhT26q"
      },
      "source": [
        "from bing_image_downloader import downloader\r\n",
        "downloader.download(\"motorbikes\",limit=30,output_dir='images',adult_filter_off=True)"
      ],
      "execution_count": null,
      "outputs": []
    },
    {
      "cell_type": "code",
      "metadata": {
        "id": "_clW-odWUtU6"
      },
      "source": [
        "from bing_image_downloader import downloader\r\n",
        "downloader.download(\"train\",limit=30,output_dir='images',adult_filter_off=True)"
      ],
      "execution_count": null,
      "outputs": []
    },
    {
      "cell_type": "code",
      "metadata": {
        "id": "P0OCJ7Y0RGQl"
      },
      "source": [
        "#preprocessing\r\n",
        "import os\r\n",
        "import matplotlib.pyplot as plt\r\n",
        "import numpy as np\r\n",
        "from skimage.io import imread\r\n",
        "from skimage.transform import resize\r\n",
        "\r\n",
        "target=[]#outputs\r\n",
        "images=[]#data given(input)\r\n",
        "flatten_data=[]\r\n",
        "\r\n",
        "datadir = \"/content/images\"\r\n",
        "\r\n",
        "categories = [\"motorbikes\",'train']\r\n",
        "\r\n",
        "for category in categories:\r\n",
        "  class_num =categories.index(category) #label encoding the values of list categories\r\n",
        "  path = os.path.join(datadir,category) #iterate through the images\r\n",
        "  for img in os.listdir(path):\r\n",
        "    img_arr = imread(os.path.join(path,img))\r\n",
        "    img_resized =resize(img_arr,(150,150,3)) #normalize the values\r\n",
        "    flatten_data.append(img_resized.flatten())\r\n",
        "    images.append(img_resized)\r\n",
        "    target.append(class_num)\r\n",
        "\r\n",
        "flatten_data=np.array(flatten_data)\r\n",
        "target = np.array(target)\r\n",
        "images = np.array(images)\r\n"
      ],
      "execution_count": null,
      "outputs": []
    },
    {
      "cell_type": "code",
      "metadata": {
        "id": "ePN9FActukvA"
      },
      "source": [
        "#traininng and testing using svm\r\n",
        "from sklearn.model_selection import train_test_split\r\n",
        "x_train,x_test,y_train,y_test = train_test_split(flatten_data,target,test_size=0.3,random_state=109)\r\n"
      ],
      "execution_count": null,
      "outputs": []
    },
    {
      "cell_type": "code",
      "metadata": {
        "id": "McPfVHIs2c9r"
      },
      "source": [
        "from sklearn.model_selection import GridSearchCV \r\n",
        "from sklearn import svm\r\n",
        "paramgrid = [ {'C':[1,10,100,1000],'kernel':['linear']},\r\n",
        "              {'C':[1,10,100,1000],'gamma':[0.001,0.0001],'kernel':['rbf']},\r\n",
        "              ] \r\n",
        "svc = svm.SVC(probability=True) \r\n",
        "clf = GridSearchCV(svc,paramgrid) \r\n",
        "clf.fit(x_train,y_train)"
      ],
      "execution_count": null,
      "outputs": []
    },
    {
      "cell_type": "code",
      "metadata": {
        "id": "_7gmRVLz5Gha"
      },
      "source": [
        "#saveing the trained model using pickle library\r\n",
        "import pickle\r\n",
        "pickle.dump(clf,open('img_model.p','wb'))"
      ],
      "execution_count": null,
      "outputs": []
    },
    {
      "cell_type": "code",
      "metadata": {
        "id": "2HQIs5586C6A"
      },
      "source": [
        "model = pickle.load(open('img_model.p','rb'))"
      ],
      "execution_count": null,
      "outputs": []
    },
    {
      "cell_type": "code",
      "metadata": {
        "id": "ZSUJVMlU6SM8"
      },
      "source": [
        "#testing a new image\r\n",
        "flatten_data=[]\r\n",
        "url=input(\"enter your url\")\r\n",
        "img = imread(url)\r\n",
        "img_resized = resize(img,(150,150,3))\r\n",
        "flatten_data.append(img_resized.flatten())\r\n",
        "flatten_data = np.array(flatten_data)\r\n",
        "print(img.shape)\r\n",
        "plt.imshow(img_resized)\r\n",
        "y_out = model.predict(flatten_data)\r\n",
        "y_out = categories[y_out[0]]\r\n",
        "print(f'predicted output: {y_out}')"
      ],
      "execution_count": null,
      "outputs": []
    }
  ]
}